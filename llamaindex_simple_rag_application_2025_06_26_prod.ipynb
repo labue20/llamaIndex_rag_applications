{
  "nbformat": 4,
  "nbformat_minor": 0,
  "metadata": {
    "colab": {
      "provenance": [],
      "authorship_tag": "ABX9TyP73eIRp+yi6gj4jryvOeKN",
      "include_colab_link": true
    },
    "kernelspec": {
      "name": "python3",
      "display_name": "Python 3"
    },
    "language_info": {
      "name": "python"
    }
  },
  "cells": [
    {
      "cell_type": "markdown",
      "metadata": {
        "id": "view-in-github",
        "colab_type": "text"
      },
      "source": [
        "<a href=\"https://colab.research.google.com/github/labue20/llamaIndex_rag_applications/blob/master/llamaindex_simple_rag_application_2025_06_26_prod.ipynb\" target=\"_parent\"><img src=\"https://colab.research.google.com/assets/colab-badge.svg\" alt=\"Open In Colab\"/></a>"
      ]
    },
    {
      "cell_type": "code",
      "execution_count": 5,
      "metadata": {
        "id": "ID3oQ9j3Gr9w"
      },
      "outputs": [],
      "source": [
        "!pip install -Uq llama-index\n",
        "!pip install -U langchain-openai"
      ]
    },
    {
      "cell_type": "code",
      "source": [
        "#data source: USA Constitution (constitution.pdf)"
      ],
      "metadata": {
        "id": "qQd42x4KK7VL"
      },
      "execution_count": null,
      "outputs": []
    },
    {
      "cell_type": "code",
      "source": [
        "import os\n",
        "import os.path\n",
        "import openai\n",
        "from getpass import getpass\n",
        "from langchain_openai import OpenAI\n",
        "from llama_index.core import (\n",
        "    VectorStoreIndex,\n",
        "    SimpleDirectoryReader,\n",
        "    StorageContext,\n",
        "    load_index_from_storage,\n",
        ")\n",
        "\n",
        "os.environ[\"OPENAI_API_KEY\"] = getpass(\"Enter your OpenAI API key: \")\n",
        "openai.api_key = os.getenv(\"OPENAI_API_KEY\")\n",
        "\n",
        "llm = OpenAI(openai_api_key=os.getenv(\"OPENAI_API_KEY\"))"
      ],
      "metadata": {
        "colab": {
          "base_uri": "https://localhost:8080/"
        },
        "id": "YT3H-O0uGysb",
        "outputId": "183cf92d-3a19-4f62-fc9c-f25a3dcd42fd"
      },
      "execution_count": 6,
      "outputs": [
        {
          "name": "stdout",
          "output_type": "stream",
          "text": [
            "Enter your OpenAI API key: ··········\n"
          ]
        }
      ]
    },
    {
      "cell_type": "code",
      "source": [
        "\n",
        "def llama_document_index_function(search_string):\n",
        "  PERSIST_DIR = './storage'\n",
        "\n",
        "  if not os.path.exists(PERSIST_DIR):\n",
        "    documents = SimpleDirectoryReader(\"data\").load_data()\n",
        "    index = VectorStoreIndex.from_documents(documents)\n",
        "    index.storage_context.persist(persist_dir=PERSIST_DIR)\n",
        "\n",
        "  else:\n",
        "    storage_context = StorageContext.from_defaults(persist_dir=PERSIST_DIR)\n",
        "    index = load_index_from_storage(storage_context)\n",
        "\n",
        "  query_engine = index.as_query_engine()\n",
        "  response = query_engine.query(search_string)\n",
        "\n",
        "  return (\"\\n\", response.response)\n"
      ],
      "metadata": {
        "id": "fV3ShT0RG2iC"
      },
      "execution_count": 16,
      "outputs": []
    },
    {
      "cell_type": "markdown",
      "source": [
        "###call the function created above"
      ],
      "metadata": {
        "id": "ltgS1JMmG4OC"
      }
    },
    {
      "cell_type": "code",
      "source": [
        "search_string = \"how to become a usa citizen?\"\n",
        "llama_document_index_function(search_string)"
      ],
      "metadata": {
        "colab": {
          "base_uri": "https://localhost:8080/"
        },
        "id": "O0lgCPAMG3kd",
        "outputId": "175744ef-a01a-40d3-c766-1a8ff20acf53"
      },
      "execution_count": 17,
      "outputs": [
        {
          "output_type": "stream",
          "name": "stdout",
          "text": [
            "Loading llama_index.core.storage.kvstore.simple_kvstore from ./storage/docstore.json.\n",
            "Loading llama_index.core.storage.kvstore.simple_kvstore from ./storage/index_store.json.\n"
          ]
        },
        {
          "output_type": "execute_result",
          "data": {
            "text/plain": [
              "('\\n',\n",
              " 'To become a U.S. citizen, an individual must meet certain requirements such as being at least 18 years old, being a lawful permanent resident for a certain period of time, demonstrating continuous residence in the U.S., showing good moral character, passing a citizenship test, and taking an oath of allegiance to the United States.')"
            ]
          },
          "metadata": {},
          "execution_count": 17
        }
      ]
    }
  ]
}