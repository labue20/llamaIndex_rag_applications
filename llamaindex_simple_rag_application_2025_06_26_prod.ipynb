{
  "nbformat": 4,
  "nbformat_minor": 0,
  "metadata": {
    "colab": {
      "provenance": [],
      "authorship_tag": "ABX9TyMFriDqF+YTokyhhGQjK2WJ",
      "include_colab_link": true
    },
    "kernelspec": {
      "name": "python3",
      "display_name": "Python 3"
    },
    "language_info": {
      "name": "python"
    }
  },
  "cells": [
    {
      "cell_type": "markdown",
      "metadata": {
        "id": "view-in-github",
        "colab_type": "text"
      },
      "source": [
        "<a href=\"https://colab.research.google.com/github/labue20/llamaIndex_rag_applications/blob/master/llamaindex_simple_rag_application_2025_06_26_prod.ipynb\" target=\"_parent\"><img src=\"https://colab.research.google.com/assets/colab-badge.svg\" alt=\"Open In Colab\"/></a>"
      ]
    },
    {
      "cell_type": "code",
      "execution_count": null,
      "metadata": {
        "id": "ID3oQ9j3Gr9w"
      },
      "outputs": [],
      "source": [
        "!pip install -Uq llama-index\n",
        "!pip install -U langchain-openai"
      ]
    },
    {
      "cell_type": "code",
      "source": [
        "import os\n",
        "import os.path\n",
        "import openai\n",
        "from getpass import getpass\n",
        "from langchain_openai import OpenAI\n",
        "from llama_index.core import (\n",
        "    VectorStoreIndex,\n",
        "    SimpleDirectoryReader,\n",
        "    StorageContext,\n",
        "    load_index_from_storage,\n",
        ")\n",
        "\n",
        "os.environ[\"OPENAI_API_KEY\"] = getpass(\"Enter your OpenAI API key: \")\n",
        "openai.api_key = os.getenv(\"OPENAI_API_KEY\")\n",
        "\n",
        "llm = OpenAI(openai_api_key=os.getenv(\"OPENAI_API_KEY\"))"
      ],
      "metadata": {
        "id": "YT3H-O0uGysb"
      },
      "execution_count": null,
      "outputs": []
    },
    {
      "cell_type": "code",
      "source": [
        "\n",
        "def llama_document_index_function(search_string):\n",
        "  PERSIST_DIR = './storage'\n",
        "\n",
        "  if not os.path.exists(PERSIST_DIR):\n",
        "    documents = SimpleDirectoryReader(\"data\").load_data()\n",
        "    index = VectorStoreIndex.from_documents(documents)\n",
        "    index.storage_context.persist(persist_dir=PERSIST_DIR)\n",
        "\n",
        "  else:\n",
        "    storage_context = StorageContext.from_defaults(persist_dir=PERSIST_DIR)\n",
        "    index = load_index_from_storage(storage_context)\n",
        "\n",
        "  query_engine = index.as_query_engine()\n",
        "  response = query_engine.query(search_string)\n",
        "\n",
        "  return (\"\\n\", response.response)\n"
      ],
      "metadata": {
        "id": "fV3ShT0RG2iC"
      },
      "execution_count": null,
      "outputs": []
    },
    {
      "cell_type": "markdown",
      "source": [
        "###call the function created above"
      ],
      "metadata": {
        "id": "ltgS1JMmG4OC"
      }
    },
    {
      "cell_type": "code",
      "source": [
        "search_string = \"how to become a usa citizen?\"\n",
        "llama_document_index_function(search_string)"
      ],
      "metadata": {
        "id": "O0lgCPAMG3kd"
      },
      "execution_count": null,
      "outputs": []
    }
  ]
}